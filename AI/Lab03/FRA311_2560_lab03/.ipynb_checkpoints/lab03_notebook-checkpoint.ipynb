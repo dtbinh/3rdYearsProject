{
 "cells": [
  {
   "cell_type": "markdown",
   "metadata": {},
   "source": [
    "# Object Recognition\n",
    "\n",
    "The objective of this lab is very simple, to recognize objects in images. You will be working with a well-known dataset called CIFAR-10.\n",
    "\n",
    "You can learn more about this dataset and download it here:\n",
    "\n",
    "https://www.cs.toronto.edu/~kriz/cifar.html\n",
    "\n",
    "In the webpage above, they also included a few publications based on CIFAR-10 data, which showed some amazing accuracies. The worst network on the page (a shallow convolutional neural network) can classify images with rouhgly 75% accuracy."
   ]
  },
  {
   "cell_type": "markdown",
   "metadata": {},
   "source": [
    "# 1. Write a function to load data\n",
    "\n",
    "The dataset webpage in the previous section also provide a simple way to load data from your harddrive using pickle. You may use their function for this exercise.\n",
    "\n",
    "Construct two numpy arrays for train images and train labels from data_batch_1 to data_batch_5. Then, construct two numpy arrays for test images, and test labels from test batch file. The original image size is 32 x 32 x 3. You may flatten the arrays so the final arrays are of size 1 x 3072."
   ]
  },
  {
   "cell_type": "code",
   "execution_count": 1,
   "metadata": {},
   "outputs": [],
   "source": [
    "import numpy as np"
   ]
  },
  {
   "cell_type": "code",
   "execution_count": 2,
   "metadata": {},
   "outputs": [],
   "source": [
    "def unpickle(file):\n",
    "    import pickle\n",
    "    with open(file, 'rb') as fo:\n",
    "        dict = pickle.load(fo, encoding='bytes')\n",
    "    return dict"
   ]
  },
  {
   "cell_type": "code",
   "execution_count": 3,
   "metadata": {},
   "outputs": [],
   "source": [
    "directory = [r\"C:\\Users\\dell\\Desktop\\module8&9\\AI\\Lab03\\cifar-10-batches-py\\data_batch_1\",\n",
    "        r\"C:\\Users\\dell\\Desktop\\module8&9\\AI\\Lab03\\cifar-10-batches-py\\data_batch_2\",\n",
    "        r\"C:\\Users\\dell\\Desktop\\module8&9\\AI\\Lab03\\cifar-10-batches-py\\data_batch_3\",\n",
    "        r\"C:\\Users\\dell\\Desktop\\module8&9\\AI\\Lab03\\cifar-10-batches-py\\data_batch_4\",\n",
    "        r\"C:\\Users\\dell\\Desktop\\module8&9\\AI\\Lab03\\cifar-10-batches-py\\data_batch_5\",\n",
    "        r\"C:\\Users\\dell\\Desktop\\module8&9\\AI\\Lab03\\cifar-10-batches-py\\test_batch\"]"
   ]
  },
  {
   "cell_type": "code",
   "execution_count": 4,
   "metadata": {},
   "outputs": [],
   "source": [
    "data_train = []\n",
    "label_train = []\n",
    "data_test = []\n",
    "label_test =[]"
   ]
  },
  {
   "cell_type": "code",
   "execution_count": 5,
   "metadata": {
    "scrolled": false
   },
   "outputs": [],
   "source": [
    "for i in range(len(directory)):\n",
    "    if i != len(directory)-1:\n",
    "        raw_data = unpickle(directory[i])\n",
    "        for ind in range(len(raw_data[b'data'])):\n",
    "            data_train.append(raw_data[b'data'][ind])\n",
    "            label_train.append(raw_data[b'labels'][ind])\n",
    "    else:\n",
    "        raw_data = unpickle(directory[i])\n",
    "        for ind in range(len(raw_data[b'data'])):\n",
    "            data_test.append(raw_data[b'data'][ind])\n",
    "            label_test.append(raw_data[b'labels'][ind])\n",
    "        "
   ]
  },
  {
   "cell_type": "markdown",
   "metadata": {},
   "source": [
    "# 2. Classify Dogs v.s. Cats\n",
    "\n",
    "Let’s start simple by creating logistic regression model to classify images. We will select only two classes of images for this exercise.\n",
    "\n",
    "1. From 50,000 train images and 10,000 test images, we want to reduce the data size. Write code to filter only dog images (label = 3) and cat images (label = 5).\n",
    "2. Create a logistic regression model to classify cats and dogs. Report your accuracy."
   ]
  },
  {
   "cell_type": "code",
   "execution_count": 6,
   "metadata": {},
   "outputs": [],
   "source": [
    "fil_data_train = []\n",
    "fil_data_test =[]\n",
    "fil_label_train = []\n",
    "fil_label_test = []\n",
    "\n",
    "for i in range(len(data_train)):\n",
    "    if label_train[i] == 3:\n",
    "        fil_data_train.append(data_train[i])\n",
    "        fil_label_train.append(3)\n",
    "    elif label_train[i] == 5:\n",
    "        fil_data_train.append(data_train[i])\n",
    "        fil_label_train.append(5)\n",
    "\n",
    "for i in range(len(data_test)):\n",
    "    if label_test[i] == 3:\n",
    "        fil_data_test.append(data_test[i])\n",
    "        fil_label_test.append(3)\n",
    "    elif label_test[i] == 5:\n",
    "        fil_data_test.append(data_test[i])\n",
    "        fil_label_test.append(5)        "
   ]
  },
  {
   "cell_type": "code",
   "execution_count": 12,
   "metadata": {},
   "outputs": [],
   "source": [
    "from sklearn.linear_model import LogisticRegression"
   ]
  },
  {
   "cell_type": "code",
   "execution_count": 13,
   "metadata": {},
   "outputs": [],
   "source": [
    "logregr = LogisticRegression()"
   ]
  },
  {
   "cell_type": "code",
   "execution_count": 14,
   "metadata": {
    "scrolled": false
   },
   "outputs": [
    {
     "data": {
      "text/plain": [
       "LogisticRegression(C=1.0, class_weight=None, dual=False, fit_intercept=True,\n",
       "          intercept_scaling=1, max_iter=100, multi_class='ovr', n_jobs=1,\n",
       "          penalty='l2', random_state=None, solver='liblinear', tol=0.0001,\n",
       "          verbose=0, warm_start=False)"
      ]
     },
     "execution_count": 14,
     "metadata": {},
     "output_type": "execute_result"
    }
   ],
   "source": [
    "logregr.fit(fil_data_train,fil_label_train)"
   ]
  },
  {
   "cell_type": "code",
   "execution_count": 24,
   "metadata": {
    "scrolled": false
   },
   "outputs": [
    {
     "name": "stdout",
     "output_type": "stream",
     "text": [
      "---------------Logistic Regression model--------------------\n",
      "\n",
      "           The accuracy is 0.5325 or 53.25%\n",
      "\n",
      "------------------------------------------------------------\n"
     ]
    }
   ],
   "source": [
    "acc = logregr.score(fil_data_test,fil_label_test)\n",
    "print('---------------Logistic Regression model--------------------\\n')\n",
    "print('           The accuracy is '+str(acc)+' or '+str(acc*100)+'%'+'\\n')\n",
    "print('------------------------------------------------------------')"
   ]
  },
  {
   "cell_type": "markdown",
   "metadata": {},
   "source": [
    "# 3. The Real Challenge\n",
    "\n",
    "The majority of your score for this lab will come from this real challenge. You are going to construct a neural network model to classify 10 classes of images from CIFAR-10 dataset. You will get half the credits for this one if you complete the assignment, and will get another half if you can exceed the target accuracy of 75%. (You may use any combination of sklearn, opencv, or tensorflow to do this exercise).\n",
    "\n",
    "Design at least 3 variants of neural network models. Each model should have different architectures. (Do not vary just a few parameters, the architecture of the network must change in each model). In your notebook, explain your experiments in details and display the accuracy score for each experiment."
   ]
  },
  {
   "cell_type": "markdown",
   "metadata": {},
   "source": [
    "# Preprocessing"
   ]
  },
  {
   "cell_type": "code",
   "execution_count": 26,
   "metadata": {},
   "outputs": [],
   "source": [
    "from sklearn.preprocessing import StandardScaler"
   ]
  },
  {
   "cell_type": "code",
   "execution_count": 29,
   "metadata": {},
   "outputs": [],
   "source": [
    "scaler = StandardScaler()  \n",
    "scaler.fit(data_train)\n",
    "x_train = scaler.transform(data_train)\n",
    "x_test = scaler.transform(data_test)\n",
    "y_train = label_train\n",
    "y_test = label_test"
   ]
  },
  {
   "cell_type": "markdown",
   "metadata": {
    "collapsed": true
   },
   "source": [
    "# 1. MLP Classifier    "
   ]
  },
  {
   "cell_type": "code",
   "execution_count": 46,
   "metadata": {},
   "outputs": [],
   "source": [
    "from sklearn.neural_network import MLPClassifier"
   ]
  },
  {
   "cell_type": "raw",
   "metadata": {},
   "source": [
    "1st Experiment process with preprocessing data\n",
    "    MLPClassifier(activation='logistic', alpha=0.0001, batch_size='auto',\n",
    "       beta_1=0.9, beta_2=0.999, early_stopping=True, epsilon=1e-08,\n",
    "       hidden_layer_sizes=(50, 50, 50, 50, 50), learning_rate='constant',\n",
    "       learning_rate_init=0.001, max_iter=500, momentum=0.9,\n",
    "       nesterovs_momentum=True, power_t=0.5, random_state=None,\n",
    "       shuffle=True, solver='adam', tol=0.0001, validation_fraction=0.1,\n",
    "       verbose=True, warm_start=True)\n",
    "    accuracy = 0.3612 = 36.12%\n",
    "---------------------------------------------------------------------------\n",
    "2nd Experiment process with preprocessing data\n",
    "    MLPClassifier(activation='logistic', alpha=0.0001, batch_size='auto',\n",
    "       beta_1=0.9, beta_2=0.999, early_stopping=True, epsilon=1e-08,\n",
    "       hidden_layer_sizes=(100, 100, 100, 100, 100),\n",
    "       learning_rate='constant', learning_rate_init=0.001, max_iter=500,\n",
    "       momentum=0.9, nesterovs_momentum=True, power_t=0.5,\n",
    "       random_state=None, shuffle=True, solver='adam', tol=0.0001,\n",
    "       validation_fraction=0.1, verbose=True, warm_start=True)\n",
    "    accuracy = 0.4148\n",
    "---------------------------------------------------------------------------\n",
    "3rd Experiment process with preprocessing data\n",
    "    MLPClassifier(activation='logistic', alpha=0.0001, batch_size='auto',\n",
    "       beta_1=0.9, beta_2=0.999, early_stopping=True, epsilon=1e-08,\n",
    "       hidden_layer_sizes=(500, 400, 300, 100, 100),\n",
    "       learning_rate='adaptive', learning_rate_init=0.001, max_iter=500,\n",
    "       momentum=0.9, nesterovs_momentum=True, power_t=0.5,\n",
    "       random_state=None, shuffle=True, solver='adam', tol=0.0001,\n",
    "       validation_fraction=0.1, verbose=True, warm_start=True)\n",
    "    accuracy = 0.4603\n",
    "---------------------------------------------------------------------------\n",
    "4th Experiment process with preprocessing data\n",
    "    MLPClassifier(activation='logistic', alpha=0.0001, batch_size='auto',\n",
    "       beta_1=0.9, beta_2=0.999, early_stopping=True, epsilon=1e-08,\n",
    "       hidden_layer_sizes=(1000, 500, 400), learning_rate='adaptive',\n",
    "       learning_rate_init=0.001, max_iter=500, momentum=0.9,\n",
    "       nesterovs_momentum=True, power_t=0.5, random_state=None,\n",
    "       shuffle=True, solver='adam', tol=0.0001, validation_fraction=0.1,\n",
    "       verbose=True, warm_start=True)\n",
    "    accuracy = 0.5013\n",
    "---------------------------------------------------------------------------\n",
    "5th Experiment *****process with unpreprocessing data\n",
    "    MLP = MLPClassifier(activation='logistic', alpha=0.0001, batch_size='auto',\n",
    "       beta_1=0.9, beta_2=0.999, early_stopping=True, epsilon=1e-08,\n",
    "       hidden_layer_sizes=(1000, 500, 400), learning_rate='adaptive',\n",
    "       learning_rate_init=0.001, max_iter=500, momentum=0.9,\n",
    "       nesterovs_momentum=True, power_t=0.5, random_state=None,\n",
    "       shuffle=True, solver='adam', tol=0.0001, validation_fraction=0.1,\n",
    "       verbose=True, warm_start=True)\n",
    "    accuracy = 0.1\n",
    "---------------------------------------------------------------------------\n",
    "6th Experiment ******process with unpreprocessing data\n",
    "    MLP = MLPClassifier(activation='relu', alpha=0.0001, batch_size='auto',\n",
    "       beta_1=0.9, beta_2=0.999, early_stopping=True, epsilon=1e-08,\n",
    "       hidden_layer_sizes=(100,100,100,100,100,100,100,100,100,100), learning_rate='adaptive',\n",
    "       learning_rate_init=0.001, max_iter=500, momentum=0.9,\n",
    "       nesterovs_momentum=True, power_t=0.5, random_state=None,\n",
    "       shuffle=True, solver='adam', tol=0.0001, validation_fraction=0.1,\n",
    "       verbose=True, warm_start=True)    \n",
    "    accuracy = 0.4561\n",
    "---------------------------------------------------------------------------\n",
    "7th Experiment process with preprocessing data\n",
    "    MLP = MLPClassifier(activation='relu', alpha=0.0001, batch_size='auto',\n",
    "       beta_1=0.9, beta_2=0.999, early_stopping=True, epsilon=1e-08,\n",
    "       hidden_layer_sizes=(100,100,100,100,100,100,100,100,100,100), learning_rate='adaptive',\n",
    "       learning_rate_init=0.001, max_iter=500, momentum=0.9,\n",
    "       nesterovs_momentum=True, power_t=0.5, random_state=None,\n",
    "       shuffle=True, solver='adam', tol=0.0001, validation_fraction=0.1,\n",
    "       verbose=True, warm_start=True)  \n",
    "    accuracy = 0.5186\n",
    "---------------------------------------------------------------------------\n",
    "8th Experiment process with preprocessing data\n",
    "    MLP = MLPClassifier(activation='relu', alpha=0.0001, batch_size='auto',\n",
    "       beta_1=0.9, beta_2=0.999, early_stopping=True, epsilon=1e-08,\n",
    "       hidden_layer_sizes=(500,400,400,300,300,100,100,100,100,100), learning_rate='adaptive',\n",
    "       learning_rate_init=0.001, max_iter=500, momentum=0.9,\n",
    "       nesterovs_momentum=True, power_t=0.5, random_state=None,\n",
    "       shuffle=True, solver='adam', tol=0.0001, validation_fraction=0.1,\n",
    "       verbose=True, warm_start=True)  \n",
    "    accuracy = 0.5414\n",
    "---------------------------------------------------------------------------\n",
    "9th Experiment process with preprocessing data\n",
    "    MLP = MLPClassifier(activation='relu', alpha=0.0001, batch_size='auto',\n",
    "       beta_1=0.9, beta_2=0.999, early_stopping=True, epsilon=1e-08,\n",
    "       hidden_layer_sizes=(1000,900,800,700,600,500,400,300,200,100), learning_rate='adaptive',\n",
    "       learning_rate_init=0.001, max_iter=500, momentum=0.9,\n",
    "       nesterovs_momentum=True, power_t=0.5, random_state=None,\n",
    "       shuffle=True, solver='adam', tol=0.0001, validation_fraction=0.1,\n",
    "       verbose=True, warm_start=True)    \n",
    "    accuracy = 0.5390\n",
    "---------------------------------------------------------------------------\n",
    "10th Experiment process with preprocessing data\n",
    "    MLP = MLPClassifier(activation='tanh', alpha=0.0001, batch_size='auto',\n",
    "       beta_1=0.9, beta_2=0.999, early_stopping=True, epsilon=1e-08,\n",
    "       hidden_layer_sizes=(1000,900,800,700,600,500,400,300,200,100), learning_rate='adaptive',\n",
    "       learning_rate_init=0.001, max_iter=500, momentum=0.9,\n",
    "       nesterovs_momentum=True, power_t=0.5, random_state=None,\n",
    "       shuffle=True, solver='adam', tol=0.0001, validation_fraction=0.1,\n",
    "       verbose=True, warm_start=True)  \n",
    "    accuracy = 0.4084\n",
    "---------------------------------------------------------------------------\n",
    "11th Experiment process with preprocessing data\n",
    "    MLP = MLPClassifier(activation='logistic', alpha=0.0001, batch_size='auto',\n",
    "       beta_1=0.9, beta_2=0.999, early_stopping=True, epsilon=1e-08,\n",
    "       hidden_layer_sizes=(1000,900,800,700,600,500,400,300,200,100), learning_rate='adaptive',\n",
    "       learning_rate_init=0.001, max_iter=500, momentum=0.9,\n",
    "       nesterovs_momentum=True, power_t=0.5, random_state=None,\n",
    "       shuffle=True, solver='adam', tol=0.0001, validation_fraction=0.1,\n",
    "       verbose=True, warm_start=True) \n",
    "    accuracy = 0.10"
   ]
  },
  {
   "cell_type": "code",
   "execution_count": 47,
   "metadata": {
    "collapsed": true
   },
   "outputs": [
    {
     "name": "stdout",
     "output_type": "stream",
     "text": [
      "Iteration 1, loss = 2.23109283\n",
      "Validation score: 0.167600\n",
      "Iteration 2, loss = 2.04962669\n",
      "Validation score: 0.194800\n",
      "Iteration 3, loss = 2.02167244\n",
      "Validation score: 0.205000\n",
      "Iteration 4, loss = 2.00066040\n",
      "Validation score: 0.212200\n",
      "Iteration 5, loss = 1.98279821\n",
      "Validation score: 0.212600\n",
      "Iteration 6, loss = 1.96796483\n",
      "Validation score: 0.217400\n",
      "Iteration 7, loss = 1.95378874\n",
      "Validation score: 0.213400\n",
      "Iteration 8, loss = 1.93996588\n",
      "Validation score: 0.219600\n",
      "Iteration 9, loss = 1.92699251\n",
      "Validation score: 0.228200\n",
      "Iteration 10, loss = 1.91374936\n",
      "Validation score: 0.231800\n",
      "Iteration 11, loss = 1.90051926\n",
      "Validation score: 0.232000\n",
      "Iteration 12, loss = 1.88293156\n",
      "Validation score: 0.240000\n",
      "Iteration 13, loss = 1.85386072\n",
      "Validation score: 0.268000\n",
      "Iteration 14, loss = 1.81257242\n",
      "Validation score: 0.282800\n",
      "Iteration 15, loss = 1.78287786\n",
      "Validation score: 0.287000\n",
      "Iteration 16, loss = 1.76341155\n",
      "Validation score: 0.290800\n",
      "Iteration 17, loss = 1.74987496\n",
      "Validation score: 0.293200\n",
      "Iteration 18, loss = 1.73366365\n",
      "Validation score: 0.298600\n",
      "Iteration 19, loss = 1.71983488\n",
      "Validation score: 0.306000\n",
      "Iteration 20, loss = 1.70621544\n",
      "Validation score: 0.314400\n",
      "Iteration 21, loss = 1.68936632\n",
      "Validation score: 0.312400\n",
      "Iteration 22, loss = 1.67397541\n",
      "Validation score: 0.305200\n",
      "Iteration 23, loss = 1.65726395\n",
      "Validation score: 0.319000\n",
      "Iteration 24, loss = 1.64406604\n",
      "Validation score: 0.325400\n",
      "Iteration 25, loss = 1.63029228\n",
      "Validation score: 0.330800\n",
      "Iteration 26, loss = 1.61700987\n",
      "Validation score: 0.329600\n",
      "Iteration 27, loss = 1.59959688\n",
      "Validation score: 0.337000\n",
      "Iteration 28, loss = 1.58624034\n",
      "Validation score: 0.341800\n",
      "Iteration 29, loss = 1.57025513\n",
      "Validation score: 0.353200\n",
      "Iteration 30, loss = 1.55834793\n",
      "Validation score: 0.351000\n",
      "Iteration 31, loss = 1.54028199\n",
      "Validation score: 0.356600\n",
      "Iteration 32, loss = 1.52773405\n",
      "Validation score: 0.359800\n",
      "Iteration 33, loss = 1.51478845\n",
      "Validation score: 0.365000\n",
      "Iteration 34, loss = 1.50611532\n",
      "Validation score: 0.359800\n",
      "Iteration 35, loss = 1.49302787\n",
      "Validation score: 0.355000\n",
      "Iteration 36, loss = 1.48112892\n",
      "Validation score: 0.360000\n",
      "Validation score did not improve more than tol=0.000100 for two consecutive epochs. Stopping.\n",
      "---------------1st MLP Classifier model--------------------\n",
      "\n",
      "------------Process with preprocessing data----------------\n",
      "\n",
      "           The accuracy is 0.3629 or 36.29%\n",
      "\n",
      "------------------------------------------------------------\n"
     ]
    }
   ],
   "source": [
    "MLP = MLPClassifier(activation='logistic', alpha=0.0001, batch_size='auto',\n",
    "       beta_1=0.9, beta_2=0.999, early_stopping=True, epsilon=1e-08,\n",
    "       hidden_layer_sizes=(50, 50, 50, 50, 50), learning_rate='constant',\n",
    "       learning_rate_init=0.001, max_iter=500, momentum=0.9,\n",
    "       nesterovs_momentum=True, power_t=0.5, random_state=None,\n",
    "       shuffle=True, solver='adam', tol=0.0001, validation_fraction=0.1,\n",
    "       verbose=True, warm_start=True)\n",
    "MLP.fit(x_train,y_train)\n",
    "acc = MLP.score(x_test,y_test)\n",
    "print('---------------1st MLP Classifier model--------------------\\n')\n",
    "print('------------Process with preprocessing data----------------\\n')\n",
    "print('           The accuracy is '+str(acc)+' or '+str(acc*100)+'%'+'\\n')\n",
    "print('------------------------------------------------------------')"
   ]
  },
  {
   "cell_type": "code",
   "execution_count": 48,
   "metadata": {
    "collapsed": true
   },
   "outputs": [
    {
     "name": "stdout",
     "output_type": "stream",
     "text": [
      "Iteration 1, loss = 2.15034089\n",
      "Validation score: 0.188400\n",
      "Iteration 2, loss = 2.02231073\n",
      "Validation score: 0.197800\n",
      "Iteration 3, loss = 1.98601259\n",
      "Validation score: 0.230200\n",
      "Iteration 4, loss = 1.96322257\n",
      "Validation score: 0.233600\n",
      "Iteration 5, loss = 1.93036019\n",
      "Validation score: 0.258800\n",
      "Iteration 6, loss = 1.84192201\n",
      "Validation score: 0.312600\n",
      "Iteration 7, loss = 1.77668476\n",
      "Validation score: 0.331000\n",
      "Iteration 8, loss = 1.73369788\n",
      "Validation score: 0.355400\n",
      "Iteration 9, loss = 1.70177296\n",
      "Validation score: 0.362200\n",
      "Iteration 10, loss = 1.66596312\n",
      "Validation score: 0.364600\n",
      "Iteration 11, loss = 1.63920796\n",
      "Validation score: 0.381800\n",
      "Iteration 12, loss = 1.60658341\n",
      "Validation score: 0.383600\n",
      "Iteration 13, loss = 1.58005876\n",
      "Validation score: 0.385200\n",
      "Iteration 14, loss = 1.55039466\n",
      "Validation score: 0.397400\n",
      "Iteration 15, loss = 1.52729704\n",
      "Validation score: 0.398600\n",
      "Iteration 16, loss = 1.49936820\n",
      "Validation score: 0.404800\n",
      "Iteration 17, loss = 1.47638879\n",
      "Validation score: 0.396600\n",
      "Iteration 18, loss = 1.45436950\n",
      "Validation score: 0.405000\n",
      "Iteration 19, loss = 1.42803895\n",
      "Validation score: 0.410200\n",
      "Iteration 20, loss = 1.40085776\n",
      "Validation score: 0.403400\n",
      "Iteration 21, loss = 1.37939096\n",
      "Validation score: 0.408400\n",
      "Iteration 22, loss = 1.35889525\n",
      "Validation score: 0.408000\n",
      "Validation score did not improve more than tol=0.000100 for two consecutive epochs. Stopping.\n",
      "---------------2nd MLP Classifier model--------------------\n",
      "\n",
      "------------Process with preprocessing data----------------\n",
      "\n",
      "           The accuracy is 0.3991 or 39.910000000000004%\n",
      "\n",
      "------------------------------------------------------------\n"
     ]
    }
   ],
   "source": [
    "MLP = MLPClassifier(activation='logistic', alpha=0.0001, batch_size='auto',\n",
    "       beta_1=0.9, beta_2=0.999, early_stopping=True, epsilon=1e-08,\n",
    "       hidden_layer_sizes=(100, 100, 100, 100, 100),\n",
    "       learning_rate='constant', learning_rate_init=0.001, max_iter=500,\n",
    "       momentum=0.9, nesterovs_momentum=True, power_t=0.5,\n",
    "       random_state=None, shuffle=True, solver='adam', tol=0.0001,\n",
    "       validation_fraction=0.1, verbose=True, warm_start=True)\n",
    "MLP.fit(x_train,y_train)\n",
    "acc = MLP.score(x_test,y_test)\n",
    "print('---------------2nd MLP Classifier model--------------------\\n')\n",
    "print('------------Process with preprocessing data----------------\\n')\n",
    "print('           The accuracy is '+str(acc)+' or '+str(acc*100)+'%'+'\\n')\n",
    "print('------------------------------------------------------------')"
   ]
  },
  {
   "cell_type": "code",
   "execution_count": 49,
   "metadata": {
    "collapsed": true
   },
   "outputs": [
    {
     "name": "stdout",
     "output_type": "stream",
     "text": [
      "Iteration 1, loss = 2.05868580\n",
      "Validation score: 0.278000\n",
      "Iteration 2, loss = 1.84643794\n",
      "Validation score: 0.330800\n",
      "Iteration 3, loss = 1.75786503\n",
      "Validation score: 0.347600\n",
      "Iteration 4, loss = 1.68093400\n",
      "Validation score: 0.382600\n",
      "Iteration 5, loss = 1.60756608\n",
      "Validation score: 0.407800\n",
      "Iteration 6, loss = 1.53036524\n",
      "Validation score: 0.432600\n",
      "Iteration 7, loss = 1.46344535\n",
      "Validation score: 0.431600\n",
      "Iteration 8, loss = 1.42098757\n",
      "Validation score: 0.446200\n",
      "Iteration 9, loss = 1.36507005\n",
      "Validation score: 0.445600\n",
      "Iteration 10, loss = 1.31380488\n",
      "Validation score: 0.452000\n",
      "Iteration 11, loss = 1.27116465\n",
      "Validation score: 0.461800\n",
      "Iteration 12, loss = 1.22036818\n",
      "Validation score: 0.466600\n",
      "Iteration 13, loss = 1.18790538\n",
      "Validation score: 0.460000\n",
      "Iteration 14, loss = 1.13433899\n",
      "Validation score: 0.470400\n",
      "Iteration 15, loss = 1.09679420\n",
      "Validation score: 0.464000\n",
      "Iteration 16, loss = 1.05301923\n",
      "Validation score: 0.461600\n",
      "Iteration 17, loss = 1.00473092\n",
      "Validation score: 0.459000\n",
      "Validation score did not improve more than tol=0.000100 for two consecutive epochs. Stopping.\n",
      "---------------3rd MLP Classifier model--------------------\n",
      "\n",
      "------------Process with preprocessing data----------------\n",
      "\n",
      "           The accuracy is 0.4587 or 45.87%\n",
      "\n",
      "------------------------------------------------------------\n"
     ]
    }
   ],
   "source": [
    "MLP = MLPClassifier(activation='logistic', alpha=0.0001, batch_size='auto',\n",
    "       beta_1=0.9, beta_2=0.999, early_stopping=True, epsilon=1e-08,\n",
    "       hidden_layer_sizes=(500, 400, 300, 100, 100),\n",
    "       learning_rate='adaptive', learning_rate_init=0.001, max_iter=500,\n",
    "       momentum=0.9, nesterovs_momentum=True, power_t=0.5,\n",
    "       random_state=None, shuffle=True, solver='adam', tol=0.0001,\n",
    "       validation_fraction=0.1, verbose=True, warm_start=True)\n",
    "MLP.fit(x_train,y_train)\n",
    "acc = MLP.score(x_test,y_test)\n",
    "print('---------------3rd MLP Classifier model--------------------\\n')\n",
    "print('------------Process with preprocessing data----------------\\n')\n",
    "print('           The accuracy is '+str(acc)+' or '+str(acc*100)+'%'+'\\n')\n",
    "print('------------------------------------------------------------')"
   ]
  },
  {
   "cell_type": "code",
   "execution_count": 50,
   "metadata": {
    "collapsed": true
   },
   "outputs": [
    {
     "name": "stdout",
     "output_type": "stream",
     "text": [
      "Iteration 1, loss = 1.81666351\n",
      "Validation score: 0.415400\n",
      "Iteration 2, loss = 1.58362506\n",
      "Validation score: 0.436200\n",
      "Iteration 3, loss = 1.48347944\n",
      "Validation score: 0.467000\n",
      "Iteration 4, loss = 1.39608589\n",
      "Validation score: 0.486000\n",
      "Iteration 5, loss = 1.32455991\n",
      "Validation score: 0.497600\n",
      "Iteration 6, loss = 1.26429627\n",
      "Validation score: 0.488000\n",
      "Iteration 7, loss = 1.19862316\n",
      "Validation score: 0.497000\n",
      "Iteration 8, loss = 1.13325558\n",
      "Validation score: 0.492600\n",
      "Validation score did not improve more than tol=0.000100 for two consecutive epochs. Stopping.\n",
      "---------------4th MLP Classifier model--------------------\n",
      "\n",
      "------------Process with preprocessing data----------------\n",
      "\n",
      "           The accuracy is 0.4861 or 48.61%\n",
      "\n",
      "------------------------------------------------------------\n"
     ]
    }
   ],
   "source": [
    "MLP = MLPClassifier(activation='logistic', alpha=0.0001, batch_size='auto',\n",
    "       beta_1=0.9, beta_2=0.999, early_stopping=True, epsilon=1e-08,\n",
    "       hidden_layer_sizes=(1000, 500, 400), learning_rate='adaptive',\n",
    "       learning_rate_init=0.001, max_iter=500, momentum=0.9,\n",
    "       nesterovs_momentum=True, power_t=0.5, random_state=None,\n",
    "       shuffle=True, solver='adam', tol=0.0001, validation_fraction=0.1,\n",
    "       verbose=True, warm_start=True)\n",
    "MLP.fit(x_train,y_train)\n",
    "acc = MLP.score(x_test,y_test)\n",
    "print('---------------4th MLP Classifier model--------------------\\n')\n",
    "print('------------Process with preprocessing data----------------\\n')\n",
    "print('           The accuracy is '+str(acc)+' or '+str(acc*100)+'%'+'\\n')\n",
    "print('------------------------------------------------------------')"
   ]
  },
  {
   "cell_type": "code",
   "execution_count": 51,
   "metadata": {
    "collapsed": true
   },
   "outputs": [
    {
     "name": "stdout",
     "output_type": "stream",
     "text": [
      "Iteration 1, loss = 2.31053047\n",
      "Validation score: 0.094600\n",
      "Iteration 2, loss = 2.31126580\n",
      "Validation score: 0.102000\n",
      "Iteration 3, loss = 2.31149188\n",
      "Validation score: 0.099000\n",
      "Iteration 4, loss = 2.31035586\n",
      "Validation score: 0.100800\n",
      "Iteration 5, loss = 2.31141151\n",
      "Validation score: 0.102000\n",
      "Validation score did not improve more than tol=0.000100 for two consecutive epochs. Stopping.\n",
      "---------------5th MLP Classifier model--------------------\n",
      "\n",
      "-----------Process with unpreprocessing data---------------\n",
      "\n",
      "           The accuracy is 0.1 or 10.0%\n",
      "\n",
      "------------------------------------------------------------\n"
     ]
    }
   ],
   "source": [
    "MLP = MLPClassifier(activation='logistic', alpha=0.0001, batch_size='auto',\n",
    "       beta_1=0.9, beta_2=0.999, early_stopping=True, epsilon=1e-08,\n",
    "       hidden_layer_sizes=(1000, 500, 400), learning_rate='adaptive',\n",
    "       learning_rate_init=0.001, max_iter=500, momentum=0.9,\n",
    "       nesterovs_momentum=True, power_t=0.5, random_state=None,\n",
    "       shuffle=True, solver='adam', tol=0.0001, validation_fraction=0.1,\n",
    "       verbose=True, warm_start=True)\n",
    "MLP.fit(data_train,label_train)\n",
    "acc = MLP.score(data_test,label_test)\n",
    "print('---------------5th MLP Classifier model--------------------\\n')\n",
    "print('-----------Process with unpreprocessing data---------------\\n')\n",
    "print('           The accuracy is '+str(acc)+' or '+str(acc*100)+'%'+'\\n')\n",
    "print('------------------------------------------------------------')"
   ]
  },
  {
   "cell_type": "code",
   "execution_count": 52,
   "metadata": {
    "collapsed": true
   },
   "outputs": [
    {
     "name": "stdout",
     "output_type": "stream",
     "text": [
      "Iteration 1, loss = 2.41081108\n",
      "Validation score: 0.265600\n",
      "Iteration 2, loss = 1.88267474\n",
      "Validation score: 0.307600\n",
      "Iteration 3, loss = 1.79543436\n",
      "Validation score: 0.367200\n",
      "Iteration 4, loss = 1.73784090\n",
      "Validation score: 0.392200\n",
      "Iteration 5, loss = 1.68929256\n",
      "Validation score: 0.404800\n",
      "Iteration 6, loss = 1.65044208\n",
      "Validation score: 0.407200\n",
      "Iteration 7, loss = 1.62182309\n",
      "Validation score: 0.413000\n",
      "Iteration 8, loss = 1.60217479\n",
      "Validation score: 0.413800\n",
      "Iteration 9, loss = 1.57880453\n",
      "Validation score: 0.444600\n",
      "Iteration 10, loss = 1.56786240\n",
      "Validation score: 0.437400\n",
      "Iteration 11, loss = 1.55891709\n",
      "Validation score: 0.420200\n",
      "Iteration 12, loss = 1.52983666\n",
      "Validation score: 0.450400\n",
      "Iteration 13, loss = 1.51762830\n",
      "Validation score: 0.458000\n",
      "Iteration 14, loss = 1.50944243\n",
      "Validation score: 0.431400\n",
      "Iteration 15, loss = 1.50182081\n",
      "Validation score: 0.450400\n",
      "Iteration 16, loss = 1.49026499\n",
      "Validation score: 0.409600\n",
      "Validation score did not improve more than tol=0.000100 for two consecutive epochs. Stopping.\n",
      "---------------6th MLP Classifier model--------------------\n",
      "\n",
      "-----------Process with unpreprocessing data---------------\n",
      "\n",
      "           The accuracy is 0.4561 or 45.61%\n",
      "\n",
      "------------------------------------------------------------\n"
     ]
    }
   ],
   "source": [
    "MLP = MLPClassifier(activation='relu', alpha=0.0001, batch_size='auto',\n",
    "       beta_1=0.9, beta_2=0.999, early_stopping=True, epsilon=1e-08,\n",
    "       hidden_layer_sizes=(100,100,100,100,100,100,100,100,100,100), learning_rate='adaptive',\n",
    "       learning_rate_init=0.001, max_iter=500, momentum=0.9,\n",
    "       nesterovs_momentum=True, power_t=0.5, random_state=None,\n",
    "       shuffle=True, solver='adam', tol=0.0001, validation_fraction=0.1,\n",
    "       verbose=True, warm_start=True)\n",
    "MLP.fit(data_train,label_train)\n",
    "acc = MLP.score(data_test,label_test)\n",
    "print('---------------6th MLP Classifier model--------------------\\n')\n",
    "print('-----------Process with unpreprocessing data---------------\\n')\n",
    "print('           The accuracy is '+str(acc)+' or '+str(acc*100)+'%'+'\\n')\n",
    "print('------------------------------------------------------------')"
   ]
  },
  {
   "cell_type": "code",
   "execution_count": 53,
   "metadata": {
    "collapsed": true
   },
   "outputs": [
    {
     "name": "stdout",
     "output_type": "stream",
     "text": [
      "Iteration 1, loss = 1.78404251\n",
      "Validation score: 0.418600\n",
      "Iteration 2, loss = 1.54765596\n",
      "Validation score: 0.448800\n",
      "Iteration 3, loss = 1.43957422\n",
      "Validation score: 0.472600\n",
      "Iteration 4, loss = 1.36594684\n",
      "Validation score: 0.474000\n",
      "Iteration 5, loss = 1.30983067\n",
      "Validation score: 0.496600\n",
      "Iteration 6, loss = 1.25873271\n",
      "Validation score: 0.497000\n",
      "Iteration 7, loss = 1.21251537\n",
      "Validation score: 0.490400\n",
      "Iteration 8, loss = 1.16972394\n",
      "Validation score: 0.500600\n",
      "Iteration 9, loss = 1.12457803\n",
      "Validation score: 0.511000\n",
      "Iteration 10, loss = 1.08808869\n",
      "Validation score: 0.509400\n",
      "Iteration 11, loss = 1.05394214\n",
      "Validation score: 0.519600\n",
      "Iteration 12, loss = 1.02275166\n",
      "Validation score: 0.493600\n",
      "Iteration 13, loss = 0.98822100\n",
      "Validation score: 0.509600\n",
      "Iteration 14, loss = 0.95704369\n",
      "Validation score: 0.496000\n",
      "Validation score did not improve more than tol=0.000100 for two consecutive epochs. Stopping.\n",
      "---------------7th MLP Classifier model--------------------\n",
      "\n",
      "-----------Process with preprocessing data---------------\n",
      "\n",
      "           The accuracy is 0.5186 or 51.85999999999999%\n",
      "\n",
      "------------------------------------------------------------\n"
     ]
    }
   ],
   "source": [
    "MLP = MLPClassifier(activation='relu', alpha=0.0001, batch_size='auto',\n",
    "       beta_1=0.9, beta_2=0.999, early_stopping=True, epsilon=1e-08,\n",
    "       hidden_layer_sizes=(100,100,100,100,100,100,100,100,100,100), learning_rate='adaptive',\n",
    "       learning_rate_init=0.001, max_iter=500, momentum=0.9,\n",
    "       nesterovs_momentum=True, power_t=0.5, random_state=None,\n",
    "       shuffle=True, solver='adam', tol=0.0001, validation_fraction=0.1,\n",
    "       verbose=True, warm_start=True)\n",
    "MLP.fit(x_train,y_train)\n",
    "acc = MLP.score(x_test,y_test)\n",
    "print('---------------7th MLP Classifier model--------------------\\n')\n",
    "print('-----------Process with preprocessing data---------------\\n')\n",
    "print('           The accuracy is '+str(acc)+' or '+str(acc*100)+'%'+'\\n')\n",
    "print('------------------------------------------------------------')"
   ]
  },
  {
   "cell_type": "code",
   "execution_count": 55,
   "metadata": {
    "collapsed": true
   },
   "outputs": [
    {
     "name": "stdout",
     "output_type": "stream",
     "text": [
      "Iteration 1, loss = 1.78615639\n",
      "Validation score: 0.409000\n",
      "Iteration 2, loss = 1.54102261\n",
      "Validation score: 0.456200\n",
      "Iteration 3, loss = 1.42239015\n",
      "Validation score: 0.484400\n",
      "Iteration 4, loss = 1.32383288\n",
      "Validation score: 0.497200\n",
      "Iteration 5, loss = 1.23439968\n",
      "Validation score: 0.522200\n",
      "Iteration 6, loss = 1.16268926\n",
      "Validation score: 0.529000\n",
      "Iteration 7, loss = 1.08522297\n",
      "Validation score: 0.534400\n",
      "Iteration 8, loss = 1.01920499\n",
      "Validation score: 0.534600\n",
      "Iteration 9, loss = 0.94376141\n",
      "Validation score: 0.539400\n",
      "Iteration 10, loss = 0.87995575\n",
      "Validation score: 0.547800\n",
      "Iteration 11, loss = 0.81613329\n",
      "Validation score: 0.544200\n",
      "Iteration 12, loss = 0.75322665\n",
      "Validation score: 0.529800\n",
      "Iteration 13, loss = 0.69130944\n",
      "Validation score: 0.539800\n",
      "Validation score did not improve more than tol=0.000100 for two consecutive epochs. Stopping.\n",
      "---------------8th MLP Classifier model--------------------\n",
      "\n",
      "-----------Process with preprocessing data---------------\n",
      "\n",
      "           The accuracy is 0.5414 or 54.14%\n",
      "\n",
      "------------------------------------------------------------\n"
     ]
    }
   ],
   "source": [
    "MLP = MLPClassifier(activation='relu', alpha=0.0001, batch_size='auto',\n",
    "       beta_1=0.9, beta_2=0.999, early_stopping=True, epsilon=1e-08,\n",
    "       hidden_layer_sizes=(500,400,400,300,300,100,100,100,100,100), learning_rate='adaptive',\n",
    "       learning_rate_init=0.001, max_iter=500, momentum=0.9,\n",
    "       nesterovs_momentum=True, power_t=0.5, random_state=None,\n",
    "       shuffle=True, solver='adam', tol=0.0001, validation_fraction=0.1,\n",
    "       verbose=True, warm_start=True)\n",
    "MLP.fit(x_train,y_train)\n",
    "acc = MLP.score(x_test,y_test)\n",
    "print('---------------8th MLP Classifier model--------------------\\n')\n",
    "print('-----------Process with preprocessing data---------------\\n')\n",
    "print('           The accuracy is '+str(acc)+' or '+str(acc*100)+'%'+'\\n')\n",
    "print('------------------------------------------------------------')"
   ]
  },
  {
   "cell_type": "code",
   "execution_count": 56,
   "metadata": {
    "collapsed": true
   },
   "outputs": [
    {
     "name": "stdout",
     "output_type": "stream",
     "text": [
      "Iteration 1, loss = 1.79900830\n",
      "Validation score: 0.437800\n",
      "Iteration 2, loss = 1.57246331\n",
      "Validation score: 0.474000\n",
      "Iteration 3, loss = 1.44877063\n",
      "Validation score: 0.483000\n",
      "Iteration 4, loss = 1.35262354\n",
      "Validation score: 0.516800\n",
      "Iteration 5, loss = 1.26618156\n",
      "Validation score: 0.521800\n",
      "Iteration 6, loss = 1.18533302\n",
      "Validation score: 0.529000\n",
      "Iteration 7, loss = 1.11308364\n",
      "Validation score: 0.537800\n",
      "Iteration 8, loss = 1.03526594\n",
      "Validation score: 0.538400\n",
      "Iteration 9, loss = 0.96655338\n",
      "Validation score: 0.546400\n",
      "Iteration 10, loss = 0.90039832\n",
      "Validation score: 0.551800\n",
      "Iteration 11, loss = 0.83448614\n",
      "Validation score: 0.551200\n",
      "Iteration 12, loss = 0.77856777\n",
      "Validation score: 0.550200\n",
      "Iteration 13, loss = 0.70540766\n",
      "Validation score: 0.554200\n",
      "Iteration 14, loss = 0.64418432\n",
      "Validation score: 0.555200\n",
      "Iteration 15, loss = 0.59089961\n",
      "Validation score: 0.558600\n",
      "Iteration 16, loss = 0.53056499\n",
      "Validation score: 0.546600\n",
      "Iteration 17, loss = 0.47664292\n",
      "Validation score: 0.550200\n",
      "Iteration 18, loss = 0.43844567\n",
      "Validation score: 0.546200\n",
      "Validation score did not improve more than tol=0.000100 for two consecutive epochs. Stopping.\n",
      "---------------9th MLP Classifier model--------------------\n",
      "\n",
      "-----------Process with preprocessing data---------------\n",
      "\n",
      "           The accuracy is 0.539 or 53.900000000000006%\n",
      "\n",
      "------------------------------------------------------------\n"
     ]
    }
   ],
   "source": [
    "MLP = MLPClassifier(activation='relu', alpha=0.0001, batch_size='auto',\n",
    "       beta_1=0.9, beta_2=0.999, early_stopping=True, epsilon=1e-08,\n",
    "       hidden_layer_sizes=(1000,900,800,700,600,500,400,300,200,100), learning_rate='adaptive',\n",
    "       learning_rate_init=0.001, max_iter=500, momentum=0.9,\n",
    "       nesterovs_momentum=True, power_t=0.5, random_state=None,\n",
    "       shuffle=True, solver='adam', tol=0.0001, validation_fraction=0.1,\n",
    "       verbose=True, warm_start=True)\n",
    "MLP.fit(x_train,y_train)\n",
    "acc = MLP.score(x_test,y_test)\n",
    "print('---------------9th MLP Classifier model--------------------\\n')\n",
    "print('-----------Process with preprocessing data---------------\\n')\n",
    "print('           The accuracy is '+str(acc)+' or '+str(acc*100)+'%'+'\\n')\n",
    "print('------------------------------------------------------------')"
   ]
  },
  {
   "cell_type": "code",
   "execution_count": 57,
   "metadata": {},
   "outputs": [
    {
     "name": "stdout",
     "output_type": "stream",
     "text": [
      "Iteration 1, loss = 1.92399508\n",
      "Validation score: 0.344000\n",
      "Iteration 2, loss = 1.81956929\n",
      "Validation score: 0.373200\n",
      "Iteration 3, loss = 1.77265811\n",
      "Validation score: 0.370800\n",
      "Iteration 4, loss = 1.72876624\n",
      "Validation score: 0.395200\n",
      "Iteration 5, loss = 1.70758776\n",
      "Validation score: 0.392200\n",
      "Iteration 6, loss = 1.68002165\n",
      "Validation score: 0.393800\n",
      "Iteration 7, loss = 1.65326802\n",
      "Validation score: 0.407800\n",
      "Iteration 8, loss = 1.62812018\n",
      "Validation score: 0.415800\n",
      "Iteration 9, loss = 1.60484549\n",
      "Validation score: 0.410400\n",
      "Iteration 10, loss = 1.59023368\n",
      "Validation score: 0.407200\n",
      "Iteration 11, loss = 1.57776786\n",
      "Validation score: 0.412200\n",
      "Validation score did not improve more than tol=0.000100 for two consecutive epochs. Stopping.\n",
      "---------------10th MLP Classifier model--------------------\n",
      "\n",
      "-----------Process with preprocessing data------------------\n",
      "\n",
      "           The accuracy is 0.4084 or 40.839999999999996%\n",
      "\n",
      "------------------------------------------------------------\n"
     ]
    }
   ],
   "source": [
    "MLP = MLPClassifier(activation='tanh', alpha=0.0001, batch_size='auto',\n",
    "       beta_1=0.9, beta_2=0.999, early_stopping=True, epsilon=1e-08,\n",
    "       hidden_layer_sizes=(1000,900,800,700,600,500,400,300,200,100), learning_rate='adaptive',\n",
    "       learning_rate_init=0.001, max_iter=500, momentum=0.9,\n",
    "       nesterovs_momentum=True, power_t=0.5, random_state=None,\n",
    "       shuffle=True, solver='adam', tol=0.0001, validation_fraction=0.1,\n",
    "       verbose=True, warm_start=True)\n",
    "MLP.fit(x_train,y_train)\n",
    "acc = MLP.score(x_test,y_test)\n",
    "print('---------------10th MLP Classifier model--------------------\\n')\n",
    "print('-----------Process with preprocessing data------------------\\n')\n",
    "print('           The accuracy is '+str(acc)+' or '+str(acc*100)+'%'+'\\n')\n",
    "print('------------------------------------------------------------')"
   ]
  },
  {
   "cell_type": "code",
   "execution_count": 58,
   "metadata": {},
   "outputs": [
    {
     "name": "stdout",
     "output_type": "stream",
     "text": [
      "Iteration 1, loss = 2.30722271\n",
      "Validation score: 0.099400\n",
      "Iteration 2, loss = 2.30635046\n",
      "Validation score: 0.107800\n",
      "Iteration 3, loss = 2.30585134\n",
      "Validation score: 0.099400\n",
      "Iteration 4, loss = 2.30550050\n",
      "Validation score: 0.101200\n",
      "Iteration 5, loss = 2.30523230\n",
      "Validation score: 0.099400\n",
      "Validation score did not improve more than tol=0.000100 for two consecutive epochs. Stopping.\n",
      "---------------11th MLP Classifier model--------------------\n",
      "\n",
      "-----------Process with preprocessing data------------------\n",
      "\n",
      "           The accuracy is 0.1 or 10.0%\n",
      "\n",
      "------------------------------------------------------------\n"
     ]
    }
   ],
   "source": [
    "MLP = MLPClassifier(activation='logistic', alpha=0.0001, batch_size='auto',\n",
    "       beta_1=0.9, beta_2=0.999, early_stopping=True, epsilon=1e-08,\n",
    "       hidden_layer_sizes=(1000,900,800,700,600,500,400,300,200,100), learning_rate='adaptive',\n",
    "       learning_rate_init=0.001, max_iter=500, momentum=0.9,\n",
    "       nesterovs_momentum=True, power_t=0.5, random_state=None,\n",
    "       shuffle=True, solver='adam', tol=0.0001, validation_fraction=0.1,\n",
    "       verbose=True, warm_start=True)\n",
    "MLP.fit(x_train,y_train)\n",
    "acc = MLP.score(x_test,y_test)\n",
    "print('---------------11th MLP Classifier model--------------------\\n')\n",
    "print('-----------Process with preprocessing data------------------\\n')\n",
    "print('           The accuracy is '+str(acc)+' or '+str(acc*100)+'%'+'\\n')\n",
    "print('------------------------------------------------------------')"
   ]
  },
  {
   "cell_type": "code",
   "execution_count": null,
   "metadata": {},
   "outputs": [],
   "source": []
  }
 ],
 "metadata": {
  "kernelspec": {
   "display_name": "Python 3",
   "language": "python",
   "name": "python3"
  },
  "language_info": {
   "codemirror_mode": {
    "name": "ipython",
    "version": 3
   },
   "file_extension": ".py",
   "mimetype": "text/x-python",
   "name": "python",
   "nbconvert_exporter": "python",
   "pygments_lexer": "ipython3",
   "version": "3.6.4"
  }
 },
 "nbformat": 4,
 "nbformat_minor": 2
}
